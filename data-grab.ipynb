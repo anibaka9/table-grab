{
 "cells": [
  {
   "cell_type": "markdown",
   "metadata": {},
   "source": [
    "Importing necessary libraries  "
   ]
  },
  {
   "cell_type": "code",
   "execution_count": 1,
   "metadata": {},
   "outputs": [],
   "source": [
    "import bs4 as bs\n",
    "import urllib.request\n",
    "import pandas as pd\n"
   ]
  },
  {
   "cell_type": "markdown",
   "metadata": {},
   "source": [
    "Settings for data source"
   ]
  },
  {
   "cell_type": "code",
   "execution_count": 57,
   "metadata": {},
   "outputs": [],
   "source": [
    "baseLink = 'https://www.fens.org/careers/job-market/page/'\n",
    "searchParams = '?sort=date&direction=DESC&keywords&position=5'\n",
    "numberOfPages = 13\n",
    "tableId = 'jobs-table'\n",
    "\n",
    "def getLink(page):\n",
    "    return baseLink + str(page + 1) + searchParams"
   ]
  },
  {
   "cell_type": "code",
   "execution_count": 58,
   "metadata": {},
   "outputs": [],
   "source": [
    "data = None\n",
    "\n",
    "for i in range(numberOfPages):\n",
    "    link = getLink(i)\n",
    "    source = urllib.request.urlopen(link).read()\n",
    "    soup = bs.BeautifulSoup(source,'lxml')\n",
    "    table = soup.find_all('table', id=\"jobs-table\")\n",
    "    dataForPage = pd.read_html(str(table))[0]\n",
    "    if (i == 0):\n",
    "        data = dataForPage\n",
    "    else:\n",
    "        data = pd.concat([data, dataForPage], axis=0)\n",
    "\n"
   ]
  },
  {
   "cell_type": "code",
   "execution_count": 59,
   "metadata": {},
   "outputs": [],
   "source": [
    "data.to_csv('data.csv')"
   ]
  }
 ],
 "metadata": {
  "interpreter": {
   "hash": "0a42a4e02e0bc2019ef5d3de34ef5e608de8061a3fda90bebd559499e409d354"
  },
  "kernelspec": {
   "display_name": "Python 3.9.7 64-bit ('base': conda)",
   "language": "python",
   "name": "python3"
  },
  "language_info": {
   "codemirror_mode": {
    "name": "ipython",
    "version": 3
   },
   "file_extension": ".py",
   "mimetype": "text/x-python",
   "name": "python",
   "nbconvert_exporter": "python",
   "pygments_lexer": "ipython3",
   "version": "3.9.7"
  },
  "orig_nbformat": 4
 },
 "nbformat": 4,
 "nbformat_minor": 2
}
